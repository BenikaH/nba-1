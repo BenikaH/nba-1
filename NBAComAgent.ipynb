{
 "cells": [
  {
   "cell_type": "markdown",
   "metadata": {},
   "source": [
    "# NBAComAgent: Documentation"
   ]
  },
  {
   "cell_type": "code",
   "execution_count": 30,
   "metadata": {},
   "outputs": [],
   "source": [
    "import datetime\n",
    "import pprint\n",
    "import logging\n",
    "logger = logging.getLogger()\n",
    "logger.setLevel(logging.ERROR)"
   ]
  },
  {
   "cell_type": "code",
   "execution_count": 9,
   "metadata": {},
   "outputs": [],
   "source": [
    "import nba.agents.nbacom"
   ]
  },
  {
   "cell_type": "markdown",
   "metadata": {},
   "source": [
    "#### If make changes to code, can reload"
   ]
  },
  {
   "cell_type": "code",
   "execution_count": 74,
   "metadata": {},
   "outputs": [],
   "source": [
    "import nba.agents.nbacom\n",
    "reload(nba.agents.nbacom)\n",
    "from nba.agents.nbacom import NBAComAgent"
   ]
  },
  {
   "cell_type": "markdown",
   "metadata": {},
   "source": [
    "## Initialization"
   ]
  },
  {
   "cell_type": "code",
   "execution_count": 14,
   "metadata": {},
   "outputs": [
    {
     "name": "stdout",
     "output_type": "stream",
     "text": [
      "parser <nba.parsers.nbacom.NBAComParser instance at 0x7f54840d7878>\n",
      "nbadb <nba.db.pgsql.NBAPostgres object at 0x7f549402ff10>\n",
      "safe True\n",
      "scraper <nba.scrapers.nbacom.NBAComScraper instance at 0x7f54840d7830>\n",
      "dfs <nba.daily_fantasy.NBADailyFantasy instance at 0x7f54840d79e0>\n",
      "nbas <nba.seasons.NBASeasons instance at 0x7f54840d7ab8>\n",
      "nbap <nba.players.NBAPlayers object at 0x7f549402fbd0>\n"
     ]
    }
   ],
   "source": [
    "agent = NBAComAgent()\n",
    "for k, v in vars(agent).iteritems():\n",
    "    print k, pprint.pformat(v, indent=2)"
   ]
  },
  {
   "cell_type": "code",
   "execution_count": 15,
   "metadata": {},
   "outputs": [
    {
     "name": "stdout",
     "output_type": "stream",
     "text": [
      "parser <nba.parsers.nbacom.NBAComParser instance at 0x7f54840d75a8>\n",
      "nbadb None\n",
      "safe True\n",
      "scraper <nba.scrapers.nbacom.NBAComScraper instance at 0x7f54840d7950>\n",
      "dfs <nba.daily_fantasy.NBADailyFantasy instance at 0x7f54840d7c68>\n",
      "nbas <nba.seasons.NBASeasons instance at 0x7f54840d7ea8>\n",
      "nbap <nba.players.NBAPlayers object at 0x7f54840e41d0>\n"
     ]
    }
   ],
   "source": [
    "agent = NBAComAgent(db=False)\n",
    "for k, v in vars(agent).iteritems():\n",
    "    print k, pprint.pformat(v, indent=2)"
   ]
  },
  {
   "cell_type": "code",
   "execution_count": 27,
   "metadata": {},
   "outputs": [
    {
     "name": "stdout",
     "output_type": "stream",
     "text": [
      "parser <nba.parsers.nbacom.NBAComParser object at 0x7f539c66da50>\n",
      "nbadb True\n",
      "safe False\n",
      "scraper <nba.scrapers.nbacom.NBAComScraper instance at 0x7f539c607638>\n",
      "dfs <daily_fantasy.NBADailyFantasy instance at 0x7f539c6073f8>\n",
      "nbas <seasons.NBASeasons instance at 0x7f539c6073b0>\n",
      "nbap <players.NBAPlayers object at 0x7f539c6525d0>\n"
     ]
    }
   ],
   "source": [
    "agent = NBAComAgent(safe=False)\n",
    "for k, v in vars(agent).iteritems():\n",
    "    print k, pprint.pformat(v, indent=2)"
   ]
  },
  {
   "cell_type": "markdown",
   "metadata": {},
   "source": [
    "## cs_player_gamelogs\n",
    "\n",
    "        Fetches player_gamelogs and updates cs_player_gamelogs table\n",
    "\n",
    "        Arguments:\n",
    "             season (str): in YYYY-YY format (2015-16)\n",
    "\n",
    "        Returns:\n",
    "             players (list): player dictionary of stats + dfs points"
   ]
  },
  {
   "cell_type": "code",
   "execution_count": 39,
   "metadata": {},
   "outputs": [],
   "source": [
    "agent = NBAComAgent(safe=False, db=False)"
   ]
  },
  {
   "cell_type": "code",
   "execution_count": 44,
   "metadata": {},
   "outputs": [
    {
     "name": "stdout",
     "output_type": "stream",
     "text": [
      "Stephen Curry GSW @ WAS 2016-02-03\n"
     ]
    }
   ],
   "source": [
    "season = agent.nbas.in_what_season(datetime.datetime.today())\n",
    "gl = agent.cs_player_gamelogs(season=season)\n",
    "print gl[0].get('player_name'), gl[0].get('matchup'), gl[0].get('game_date')"
   ]
  },
  {
   "cell_type": "markdown",
   "metadata": {},
   "source": [
    "## cs_playerstats"
   ]
  },
  {
   "cell_type": "code",
   "execution_count": 56,
   "metadata": {},
   "outputs": [],
   "source": [
    "agent = NBAComAgent(safe=False, db=False)"
   ]
  },
  {
   "cell_type": "code",
   "execution_count": 57,
   "metadata": {},
   "outputs": [],
   "source": [
    "season = agent.nbas.in_what_season(datetime.datetime.today())\n",
    "b, adv = agent.cs_playerstats(season=season)"
   ]
  },
  {
   "cell_type": "code",
   "execution_count": 58,
   "metadata": {},
   "outputs": [
    {
     "name": "stdout",
     "output_type": "stream",
     "text": [
      "{'MIN_PLAYED': 626.0, u'BLK': 8, u'MIN': 626.4183333333333, u'AGE': 31.0, u'TOV': 38, u'REB': 68, u'TEAM_ID': 1610612741, u'PLAYER_ID': 201166, u'FG3A': 113, u'PLAYER_NAME': u'Aaron Brooks', u'AST': 94, u'DD2': 0, u'TEAM_ABBREVIATION': u'CHI', u'FG3M': 41, u'OREB': 15, u'FGM': 107, u'PF': 80, u'PTS': 285, u'FGA': 266, u'GP': 39, u'STL': 13, u'CFPARAMS': u'201166,1610612741', u'L': 17, u'FTA': 36, u'PLUS_MINUS': 52, u'W': 22, u'W_PCT': 0.564, u'DREB': 53, u'FTM': 30, u'FT_PCT': 0.833, u'PFD': 44, u'FG_PCT': 0.402, u'CFID': 5, 'SEC_PLAYED': 0.4183333333332939, u'FG3_PCT': 0.363, u'BLKA': 18, u'TD3': 0}\n",
      "{'MIN_PLAYED': 16.0, u'MIN': 16.1, u'AGE': 31.0, u'TEAM_ID': 1610612741, u'PLAYER_ID': 201166, u'AST_PCT': 0.238, u'CFPARAMS': u'201166,1610612741', u'EFG_PCT': 0.479, u'PLAYER_NAME': u'Aaron Brooks', u'DEF_RATING': 100.9, 'SEC_PLAYED': 0.10000000000000142, u'NET_RATING': 3.3, u'TEAM_ABBREVIATION': u'CHI', u'PIE': 0.08, u'AST_TO': 2.47, u'FGM': 107, u'FGA_PG': 6.8, u'FGA': 266, u'TS_PCT': 0.506, u'GP': 39, u'USG_PCT': 0.223, u'L': 17, u'OREB_PCT': 0.026, u'REB_PCT': 0.057, u'W': 22, u'W_PCT': 0.564, u'DREB_PCT': 0.087, u'FGM_PG': 2.7, u'FG_PCT': 0.402, u'CFID': 5, u'PACE': 97.49, u'TM_TOV_PCT': 9.2, u'AST_RATIO': 22.7, u'OFF_RATING': 104.2}\n"
     ]
    }
   ],
   "source": [
    "print b[0]\n",
    "print adv[0]"
   ]
  },
  {
   "cell_type": "markdown",
   "metadata": {},
   "source": [
    "## cs_team_gamelogs"
   ]
  },
  {
   "cell_type": "code",
   "execution_count": 75,
   "metadata": {},
   "outputs": [],
   "source": [
    "agent = NBAComAgent(safe=False, db=False)"
   ]
  },
  {
   "cell_type": "code",
   "execution_count": 76,
   "metadata": {},
   "outputs": [
    {
     "name": "stdout",
     "output_type": "stream",
     "text": [
      "{u'fg_pct': 0.527, u'season_id': u'22015', u'team_id': 1610612744, u'team_name': u'Golden State Warriors', u'pts': 134, 'team_code': u'GSW', u'tov': 18, u'fta': 29, u'pf': 24, 'opponent_pts': 121, u'blk': 5, u'reb': 49, u'ftm': 16, u'ft_pct': 0.552, u'fg3a': 41, u'ast': 35, u'wl': u'W', u'fg3m': 20, u'fgm': 49, u'fg3_pct': 0.488, u'game_id': u'0021500739', u'dreb': 38, u'fga': 93, u'plus_minus': 13, u'stl': 10, u'video_available': 1, u'oreb': 11, u'game_date': u'2016-02-03', u'matchup': u'GSW @ WAS', 'minutes': 240}\n"
     ]
    }
   ],
   "source": [
    "season = agent.nbas.in_what_season(datetime.datetime.today())\n",
    "gl = agent.cs_team_gamelogs(season=season)\n",
    "print gl[0]"
   ]
  },
  {
   "cell_type": "markdown",
   "metadata": {},
   "source": [
    "## cs_teamstats()"
   ]
  },
  {
   "cell_type": "code",
   "execution_count": 77,
   "metadata": {},
   "outputs": [],
   "source": [
    "# can run script without database update\n",
    "agent = NBAComAgent(safe=False, db=False)"
   ]
  },
  {
   "cell_type": "code",
   "execution_count": 78,
   "metadata": {},
   "outputs": [
    {
     "name": "stdout",
     "output_type": "stream",
     "text": [
      "{u'BLK': 5.5, u'MIN': 48.1, u'TOV': 15.1, u'TEAM_ID': 1610612737, u'REB': 40.8, u'TEAM_NAME': u'Atlanta Hawks', u'FG3A': 26.8, u'AST': 25.3, u'PLUS_MINUS': 2.6, u'FG3M': 9.2, u'OREB': 8.3, u'FGM': 38.4, u'PF': 19.0, u'PTS': 102.2, u'FGA': 83.4, u'GP': 52, u'STL': 9.4, u'CFPARAMS': u'Atlanta Hawks', u'L': 22, u'FTA': 20.5, u'W': 30, u'W_PCT': 0.577, u'DREB': 32.5, u'FTM': 16.2, u'FT_PCT': 0.789, u'PFD': 18.4, u'FG_PCT': 0.461, u'CFID': 10, u'FG3_PCT': 0.344, u'BLKA': 5.2}\n",
      "{u'MIN': 2501.0, u'TEAM_ID': 1610612737, u'TEAM_NAME': u'Atlanta Hawks', u'AST_PCT': 0.659, u'CFPARAMS': u'Atlanta Hawks', u'EFG_PCT': 0.516, u'DEF_RATING': 99.9, u'NET_RATING': 3.1, u'PIE': 0.523, u'AST_TO': 1.68, u'TS_PCT': 0.553, u'GP': 52, u'L': 22, u'OREB_PCT': 0.195, u'REB_PCT': 0.472, u'W': 30, u'W_PCT': 0.577, u'DREB_PCT': 0.739, u'CFID': 10, u'PACE': 99.25, u'TM_TOV_PCT': 0.152, u'AST_RATIO': 19.1, u'OFF_RATING': 103.0}\n"
     ]
    }
   ],
   "source": [
    "b, adv = agent.cs_team_stats(season='2015-16', date_from=None, date_to=None)\n",
    "print b[0]\n",
    "print adv[0]"
   ]
  },
  {
   "cell_type": "code",
   "execution_count": null,
   "metadata": {},
   "outputs": [],
   "source": [
    ""
   ]
  }
 ],
 "metadata": {
  "kernelspec": {
   "display_name": "Python 2",
   "language": "python",
   "name": "python2"
  },
  "language_info": {
   "codemirror_mode": {
    "name": "ipython",
    "version": 2.0
   },
   "file_extension": ".py",
   "mimetype": "text/x-python",
   "name": "python",
   "nbconvert_exporter": "python",
   "pygments_lexer": "ipython2",
   "version": "2.7.10"
  }
 },
 "nbformat": 4,
 "nbformat_minor": 0
}