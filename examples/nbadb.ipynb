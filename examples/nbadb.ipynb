{
 "metadata": {
  "name": "",
  "signature": "sha256:07d40cca2382225c614e8e3330e5f1d7d1a1d6861872edc6e0c389bf715cc668"
 },
 "nbformat": 3,
 "nbformat_minor": 0,
 "worksheets": [
  {
   "cells": [
    {
     "cell_type": "markdown",
     "metadata": {},
     "source": [
      "# Understanding the ndabd database schema"
     ]
    },
    {
     "cell_type": "markdown",
     "metadata": {},
     "source": [
      "Many of the tables are self-explanatory. I've added comments where I think that is not the case, or there are fields of interest that would not be apparent just by looking at the schema."
     ]
    },
    {
     "cell_type": "markdown",
     "metadata": {},
     "source": [
      "# Tables"
     ]
    },
    {
     "cell_type": "markdown",
     "metadata": {},
     "source": [
      "## seasons"
     ]
    },
    {
     "cell_type": "markdown",
     "metadata": {},
     "source": [
      "The season field is the year in which the season ends, so 2016-17 would be 2017. NBA.com uses a season_id that is 20000 + the year in which the season starts, which is 22016 for the 2016-17 season.\n",
      "\n",
      "The season_start and season_end fields are useful if you need to figure out what season a game was played in."
     ]
    },
    {
     "cell_type": "markdown",
     "metadata": {},
     "source": [
      "    CREATE TABLE public.seasons\n",
      "    (\n",
      "      nbacom_season_id integer NOT NULL,\n",
      "      season smallint NOT NULL,\n",
      "      season_code character(7),\n",
      "      season_start date NOT NULL,\n",
      "      season_end date NOT NULL,\n",
      "      CONSTRAINT seasons_pkey PRIMARY KEY (nbacom_season_id),\n",
      "      CONSTRAINT seasons_season_key UNIQUE (season)\n",
      "    )"
     ]
    },
    {
     "cell_type": "markdown",
     "metadata": {},
     "source": [
      "## teams"
     ]
    },
    {
     "cell_type": "markdown",
     "metadata": {},
     "source": [
      "    -- team_code is unique\n",
      "    -- nbacom_team_id is not unique because team switches cities\n",
      "    -- and gets new team code while keeping old nbacom_team_id\n",
      "    \n",
      "    CREATE TABLE public.teams\n",
      "    (\n",
      "      teams_id serial primary key,\n",
      "      nbacom_team_id integer NOT NULL,\n",
      "      team_code character varying(3) NOT NULL,\n",
      "      team_city character varying(50) NOT NULL,\n",
      "      team_name character varying(50) NOT NULL,\n",
      "      CONSTRAINT uq_team_code UNIQUE (team_code)\n",
      "    )"
     ]
    },
    {
     "cell_type": "markdown",
     "metadata": {},
     "source": [
      "## games"
     ]
    },
    {
     "cell_type": "markdown",
     "metadata": {},
     "source": [
      "    CREATE TABLE public.games\n",
      "    (\n",
      "      game_id integer primary keyNOT NULL,\n",
      "      season smallint,\n",
      "      game_date date NOT NULL,\n",
      "      gamecode character varying(30),\n",
      "      visitor_team_id integer,\n",
      "      visitor_team_code character varying(3),\n",
      "      home_team_id integer,\n",
      "      home_team_code character varying(3),\n",
      "      game_type character varying(10),\n",
      "      CONSTRAINT games_home_team_code_fkey FOREIGN KEY (home_team_code)\n",
      "          REFERENCES public.teams (team_code) MATCH SIMPLE\n",
      "          ON UPDATE NO ACTION ON DELETE NO ACTION,\n",
      "      CONSTRAINT games_season_fkey FOREIGN KEY (season)\n",
      "          REFERENCES public.seasons (season) MATCH SIMPLE\n",
      "          ON UPDATE NO ACTION ON DELETE NO ACTION,\n",
      "      CONSTRAINT games_visitor_team_code_fkey FOREIGN KEY (visitor_team_code)\n",
      "          REFERENCES public.teams (team_code) MATCH SIMPLE\n",
      "          ON UPDATE NO ACTION ON DELETE NO ACTION,\n",
      "      CONSTRAINT games_gamecode_key UNIQUE (gamecode)\n",
      "    )"
     ]
    },
    {
     "cell_type": "markdown",
     "metadata": {},
     "source": [
      "## players"
     ]
    },
    {
     "cell_type": "markdown",
     "metadata": {},
     "source": [
      "    CREATE TABLE public.players\n",
      "    (\n",
      "      players_id serial primary key,\n",
      "      nbacom_player_id integer NOT NULL,\n",
      "      first_name character varying(25) NOT NULL,\n",
      "      last_name character varying(25) NOT NULL,\n",
      "      display_first_last character varying(50) NOT NULL,\n",
      "      nbacom_position character varying(20) DEFAULT NULL::character varying,\n",
      "      primary_position character varying(2) DEFAULT NULL::character varying,\n",
      "      position_group character varying(5) DEFAULT NULL::character varying,\n",
      "      birthdate date,\n",
      "      school character varying(50) DEFAULT NULL::character varying,\n",
      "      country character varying(50) DEFAULT NULL::character varying,\n",
      "      last_affiliation character varying(50) DEFAULT NULL::character varying,\n",
      "      height smallint,\n",
      "      weight smallint,\n",
      "      jersey character varying(3) DEFAULT NULL::character varying,\n",
      "      from_year smallint,\n",
      "      to_year smallint,\n",
      "      draft_number smallint,\n",
      "      draft_round smallint,\n",
      "      draft_year smallint,\n",
      "      CONSTRAINT players_nbacom_player_id_key UNIQUE (nbacom_player_id)\n",
      "    )"
     ]
    },
    {
     "cell_type": "markdown",
     "metadata": {},
     "source": [
      "## player_xref"
     ]
    },
    {
     "cell_type": "markdown",
     "metadata": {},
     "source": [
      "Cross-references player ids or codes from other sites with nbacom_player_id.\n",
      "\n",
      "An example use case is that nba.com often provides incomplete position information. While positions are somewhat arbitrary, I use the 'position_group' field in players to indicate whether a player is Point, Wing, or Big. NBA.com often lists a player as 'Forward' or 'Guard', so I can't tell which group the player belongs to. ESPN assigns a specific position to a player, so by getting ESPN player information, I can update the \\position_group fields in the players table."
     ]
    },
    {
     "cell_type": "markdown",
     "metadata": {},
     "source": [
      "    CREATE TABLE public.player_xref\n",
      "    (\n",
      "      player_xref_id serial primary key,\n",
      "      nbacom_player_id integer NOT NULL,\n",
      "      source character varying(30) NOT NULL,\n",
      "      source_player_name character varying(50) NOT NULL,\n",
      "      source_player_id integer,\n",
      "      source_player_code character varying(50),\n",
      "      CONSTRAINT player_xref_nbacom_player_id_fkey FOREIGN KEY (nbacom_player_id)\n",
      "          REFERENCES public.players (nbacom_player_id) MATCH SIMPLE\n",
      "          ON UPDATE NO ACTION ON DELETE NO ACTION,\n",
      "      CONSTRAINT pid_source UNIQUE (nbacom_player_id, source)\n",
      "    )"
     ]
    },
    {
     "cell_type": "markdown",
     "metadata": {},
     "source": [
      "## player_gamelogs"
     ]
    },
    {
     "cell_type": "markdown",
     "metadata": {},
     "source": [
      "I calculate draftkings and fanduel points and add them to the table, even though they are not part of the nba.com API. Even if you don't play daily fantasy, they are fair (albeit flawed) proxies for season-long fantasy scoring or a metric like game score, which you might use to assess the player's combined statistical prowess in a game."
     ]
    },
    {
     "cell_type": "markdown",
     "metadata": {},
     "source": [
      "    CREATE TABLE public.player_gamelogs\n",
      "    (\n",
      "      player_gamelogs_id serial primary key,\n",
      "      game_id integer,\n",
      "      nbacom_player_id integer,\n",
      "      player_name character varying(50),\n",
      "      team_id integer,\n",
      "      team_code character varying(3),\n",
      "      min smallint,\n",
      "      fgm smallint,\n",
      "      fga smallint,\n",
      "      fg_pct numeric,\n",
      "      fg3m smallint,\n",
      "      fg3a smallint,\n",
      "      fg3_pct numeric,\n",
      "      ftm smallint,\n",
      "      fta smallint,\n",
      "      ft_pct numeric,\n",
      "      oreb smallint,\n",
      "      dreb smallint,\n",
      "      reb smallint,\n",
      "      ast smallint,\n",
      "      tov smallint,\n",
      "      stl smallint,\n",
      "      blk smallint,\n",
      "      pf smallint,\n",
      "      pts smallint,\n",
      "      plus_minus smallint,\n",
      "      dk_points numeric,\n",
      "      fd_points numeric,\n",
      "      CONSTRAINT player_gamelogs_game_id_fkey FOREIGN KEY (game_id)\n",
      "          REFERENCES public.games (game_id) MATCH SIMPLE\n",
      "          ON UPDATE NO ACTION ON DELETE NO ACTION,\n",
      "      CONSTRAINT player_gamelogs_nbacom_player_id_fkey FOREIGN KEY (nbacom_player_id)\n",
      "          REFERENCES public.players (nbacom_player_id) MATCH SIMPLE\n",
      "          ON UPDATE NO ACTION ON DELETE NO ACTION,\n",
      "      CONSTRAINT player_gamelogs_team_code_fkey FOREIGN KEY (team_code)\n",
      "          REFERENCES public.teams (team_code) MATCH SIMPLE\n",
      "          ON UPDATE NO ACTION ON DELETE NO ACTION,\n",
      "      CONSTRAINT player_gamelogs_game_id_nbacom_player_id_key UNIQUE (game_id, nbacom_player_id)\n",
      "    )"
     ]
    },
    {
     "cell_type": "markdown",
     "metadata": {},
     "source": [
      "## player_boxscores_combined"
     ]
    },
    {
     "cell_type": "markdown",
     "metadata": {},
     "source": [
      "There are 5 types of boxscores in the nba.com API: traditional, advanced, misc, scoring, and usage. This table contains the unique fields after combining all of these boxscore types. There is some overlap with the player_gamelogs table. \n",
      "\n",
      "It is much easier to build and maintain the player_gamelogs table because the resource has all gamelogs from a single season in a single json response. To build the player_boxscores_combined table, you have to request 5 different resources for every game_id in a season (more than 5,000 requests).\n",
      "\n",
      "So why even bother with player_boxscores_combined? A couple of reasons: (1) there are stats that you can't get from the gamelogs, such as usage rate or how much a player relies on assists to score; (2) the 'comment' and 'start_position' fields have useful information about injuries, positions, and start/bench splits."
     ]
    },
    {
     "cell_type": "markdown",
     "metadata": {},
     "source": [
      "    CREATE TABLE public.player_boxscores_combined\n",
      "    (\n",
      "      player_boxscores_combined_id serial primary key,\n",
      "      player_id integer,\n",
      "      player_name character varying,\n",
      "      game_id integer,\n",
      "      team_id integer,\n",
      "      ast smallint,\n",
      "      ast_pct numeric,\n",
      "      ast_ratio numeric,\n",
      "      ast_tov numeric,\n",
      "      blk smallint,\n",
      "      blka smallint,\n",
      "      comment character varying,\n",
      "      def_rating numeric,\n",
      "      dreb smallint,\n",
      "      dreb_pct numeric,\n",
      "      efg_pct numeric,\n",
      "      fg3a smallint,\n",
      "      fg3m smallint,\n",
      "      fg3_pct numeric,\n",
      "      fga smallint,\n",
      "      fgm smallint,\n",
      "      fg_pct numeric,\n",
      "      fta smallint,\n",
      "      ftm smallint,\n",
      "      ft_pct numeric,\n",
      "      min character varying(10),\n",
      "      min_played smallint,\n",
      "      net_rating numeric,\n",
      "      off_rating numeric,\n",
      "      opp_pts_2nd_chance smallint,\n",
      "      opp_pts_fb smallint,\n",
      "      opp_pts_off_tov smallint,\n",
      "      opp_pts_paint smallint,\n",
      "      oreb smallint,\n",
      "      oreb_pct numeric,\n",
      "      pace numeric,\n",
      "      pct_ast numeric,\n",
      "      pct_ast_2pm numeric,\n",
      "      pct_ast_3pm numeric,\n",
      "      pct_ast_fgm numeric,\n",
      "      pct_blk numeric,\n",
      "      pct_blka numeric,\n",
      "      pct_dreb numeric,\n",
      "      pct_fg3a numeric,\n",
      "      pct_fg3m numeric,\n",
      "      pct_fga numeric,\n",
      "      pct_fga_2pt numeric,\n",
      "      pct_fga_3pt numeric,\n",
      "      pct_fgm numeric,\n",
      "      pct_fta numeric,\n",
      "      pct_ftm numeric,\n",
      "      pct_oreb numeric,\n",
      "      pct_pf numeric,\n",
      "      pct_pfd numeric,\n",
      "      pct_pts numeric,\n",
      "      pct_pts_2pt numeric,\n",
      "      pct_pts_2pt_mr numeric,\n",
      "      pct_pts_3pt numeric,\n",
      "      pct_pts_fb numeric,\n",
      "      pct_pts_ft numeric,\n",
      "      pct_pts_off_tov numeric,\n",
      "      pct_pts_paint numeric,\n",
      "      pct_reb numeric,\n",
      "      pct_stl numeric,\n",
      "      pct_tov numeric,\n",
      "      pct_uast_2pm numeric,\n",
      "      pct_uast_3pm numeric,\n",
      "      pct_uast_fgm numeric,\n",
      "      pf smallint,\n",
      "      pfd smallint,\n",
      "      pie numeric,\n",
      "      plus_minus numeric,\n",
      "      pts smallint,\n",
      "      pts_2nd_chance smallint,\n",
      "      pts_fb smallint,\n",
      "      pts_off_tov smallint,\n",
      "      pts_paint smallint,\n",
      "      reb smallint,\n",
      "      reb_pct numeric,\n",
      "      sec_played smallint,\n",
      "      start_position character varying,\n",
      "      stl smallint,\n",
      "      tm_tov_pct numeric,\n",
      "      tov smallint,\n",
      "      ts_pct numeric,\n",
      "      usg_pct numeric,\n",
      "      CONSTRAINT player_boxscores_combined_game_id_fkey FOREIGN KEY (game_id)\n",
      "          REFERENCES public.games (game_id) MATCH SIMPLE\n",
      "          ON UPDATE NO ACTION ON DELETE NO ACTION,\n",
      "      CONSTRAINT player_boxscores_combined_player_id_fkey FOREIGN KEY (player_id)\n",
      "          REFERENCES public.players (nbacom_player_id) MATCH SIMPLE\n",
      "          ON UPDATE NO ACTION ON DELETE NO ACTION,\n",
      "      CONSTRAINT uq_pid_gid UNIQUE (player_id, game_id)\n",
      "    )"
     ]
    },
    {
     "cell_type": "markdown",
     "metadata": {},
     "source": [
      "## playerstats_daily"
     ]
    },
    {
     "cell_type": "markdown",
     "metadata": {},
     "source": [
      "The stats in this table show the player's cumulative stats as of a specific date in the season.\n",
      "\n",
      "As with the other tables that have an 'as_of' column, it is inclusive of that day's games. So, assume James Harden played DAL on 12-2-2016. If you want to know how he was doing *prior* to the game, you would set as_of to 12-1-2016."
     ]
    },
    {
     "cell_type": "markdown",
     "metadata": {},
     "source": [
      "    CREATE TABLE public.playerstats_daily\n",
      "    (\n",
      "      playerstats_daily_id serial primary key,\n",
      "      as_of date,\n",
      "      season smallint,\n",
      "      nbacom_player_id integer,\n",
      "      player_name character varying(50),\n",
      "      team_id integer,\n",
      "      age numeric,\n",
      "      ast smallint,\n",
      "      ast_rank smallint,\n",
      "      blk smallint,\n",
      "      blka smallint,\n",
      "      blka_rank smallint,\n",
      "      blk_rank smallint,\n",
      "      dd2 smallint,\n",
      "      dd2_rank smallint,\n",
      "      dreb smallint,\n",
      "      dreb_rank smallint,\n",
      "      fg3a smallint,\n",
      "      fg3a_rank smallint,\n",
      "      fg3m smallint,\n",
      "      fg3m_rank smallint,\n",
      "      fg3_pct numeric,\n",
      "      fg3_pct_rank smallint,\n",
      "      fga smallint,\n",
      "      fga_rank smallint,\n",
      "      fgm smallint,\n",
      "      fgm_rank smallint,\n",
      "      fg_pct numeric,\n",
      "      fg_pct_rank smallint,\n",
      "      fta smallint,\n",
      "      fta_rank smallint,\n",
      "      ftm smallint,\n",
      "      ftm_rank smallint,\n",
      "      ft_pct numeric,\n",
      "      ft_pct_rank smallint,\n",
      "      gp smallint,\n",
      "      gp_rank smallint,\n",
      "      l smallint,\n",
      "      l_rank smallint,\n",
      "      min numeric,\n",
      "      min_played numeric,\n",
      "      min_rank smallint,\n",
      "      oreb smallint,\n",
      "      oreb_rank smallint,\n",
      "      pf smallint,\n",
      "      pfd smallint,\n",
      "      pfd_rank smallint,\n",
      "      pf_rank smallint,\n",
      "      plus_minus smallint,\n",
      "      plus_minus_rank smallint,\n",
      "      pts smallint,\n",
      "      pts_rank smallint,\n",
      "      reb smallint,\n",
      "      reb_rank smallint,\n",
      "      sec_played numeric,\n",
      "      stl smallint,\n",
      "      stl_rank smallint,\n",
      "      td3 smallint,\n",
      "      td3_rank smallint,\n",
      "      tov smallint,\n",
      "      tov_rank smallint,\n",
      "      w smallint,\n",
      "      w_pct numeric,\n",
      "      w_pct_rank smallint,\n",
      "      w_rank smallint,\n",
      "      reb_pct_rank smallint,\n",
      "      reb_pct numeric,\n",
      "      oreb_pct numeric,\n",
      "      dreb_pct numeric,\n",
      "      usg_pct numeric,\n",
      "      ast_pct numeric,\n",
      "      ast_ratio_rank smallint,\n",
      "      dreb_pct_rank smallint,\n",
      "      dreb_rating_rank smallint,\n",
      "      def_rating_rank smallint,\n",
      "      ts_pct_rank smallint,\n",
      "      ast_to_rank smallint,\n",
      "      tm_tov_pct_rank smallint,\n",
      "      ast_ratio smallint,\n",
      "      pace_rank smallint,\n",
      "      fgm_pg_rank smallint,\n",
      "      net_rating numeric,\n",
      "      ts_pct numeric,\n",
      "      tm_tov_pct numeric,\n",
      "      efg_pct_rank numeric,\n",
      "      fga_pg numeric,\n",
      "      oreb_pct_rank smallint,\n",
      "      off_rating numeric,\n",
      "      off_rating_rank smallint,\n",
      "      pace numeric,\n",
      "      def_rating numeric,\n",
      "      pie numeric,\n",
      "      ast_to numeric,\n",
      "      team_code character varying(10),\n",
      "      efg_pct numeric,\n",
      "      fga_pg_rank smallint,\n",
      "      fgm_pg smallint,\n",
      "      net_rating_rank smallint,\n",
      "      ast_pct_rank smallint,\n",
      "      usg_pct_rank smallint,\n",
      "      pie_rank smallint,\n",
      "      CONSTRAINT playerstats_daily_nbacom_player_id_fkey FOREIGN KEY (nbacom_player_id)\n",
      "          REFERENCES public.players (nbacom_player_id) MATCH SIMPLE\n",
      "          ON UPDATE NO ACTION ON DELETE NO ACTION,\n",
      "      CONSTRAINT playerstats_daily_as_of_nbacom_player_id_key UNIQUE (as_of, nbacom_player_id)\n",
      "    )"
     ]
    },
    {
     "cell_type": "markdown",
     "metadata": {},
     "source": [
      "## team_gamelogs"
     ]
    },
    {
     "cell_type": "markdown",
     "metadata": {},
     "source": [
      "    CREATE TABLE public.team_gamelogs\n",
      "    (\n",
      "      team_gamelogs_id serial primary key,\n",
      "      team_id integer,\n",
      "      team_code character varying(3),\n",
      "      game_id integer,\n",
      "      minutes smallint,\n",
      "      fgm smallint,\n",
      "      fga smallint,\n",
      "      fg_pct numeric(4,3) DEFAULT NULL::numeric,\n",
      "      fg3m smallint,\n",
      "      fg3a smallint,\n",
      "      fg3_pct numeric(4,3) DEFAULT NULL::numeric,\n",
      "      ftm smallint,\n",
      "      fta smallint,\n",
      "      ft_pct numeric(4,3) DEFAULT NULL::numeric,\n",
      "      oreb smallint,\n",
      "      dreb smallint,\n",
      "      reb smallint,\n",
      "      ast smallint,\n",
      "      tov smallint,\n",
      "      stl smallint,\n",
      "      blk smallint,\n",
      "      pf smallint,\n",
      "      pts smallint,\n",
      "      plus_minus smallint,\n",
      "      opponent_pts smallint,\n",
      "      CONSTRAINT team_gamelogs_game_id_fkey FOREIGN KEY (game_id)\n",
      "          REFERENCES public.games (game_id) MATCH SIMPLE\n",
      "          ON UPDATE NO ACTION ON DELETE NO ACTION,\n",
      "      CONSTRAINT team_gamelogs_team_code_fkey FOREIGN KEY (team_code)\n",
      "          REFERENCES public.teams (team_code) MATCH SIMPLE\n",
      "          ON UPDATE NO ACTION ON DELETE NO ACTION,\n",
      "      CONSTRAINT team_gamelogs_game_id_team_id_key UNIQUE (game_id, team_id)\n",
      "    )"
     ]
    },
    {
     "cell_type": "markdown",
     "metadata": {},
     "source": [
      "## team_boxscores_combined"
     ]
    },
    {
     "cell_type": "markdown",
     "metadata": {},
     "source": [
      "    CREATE TABLE public.team_boxscores_combined\n",
      "    (\n",
      "      team_boxscores_combined_id serial primary key,\n",
      "      game_id integer,\n",
      "      team_id integer,\n",
      "      team_code character varying(3),\n",
      "      ast smallint,\n",
      "      ast_pct numeric,\n",
      "      ast_ratio numeric,\n",
      "      ast_tov numeric,\n",
      "      blk smallint,\n",
      "      blka smallint,\n",
      "      def_rating numeric,\n",
      "      dreb smallint,\n",
      "      dreb_pct numeric,\n",
      "      efg_pct numeric,\n",
      "      fg3a smallint,\n",
      "      fg3m smallint,\n",
      "      fg3_pct numeric,\n",
      "      fga smallint,\n",
      "      fgm smallint,\n",
      "      fg_pct numeric,\n",
      "      fta smallint,\n",
      "      ftm smallint,\n",
      "      ft_pct numeric,\n",
      "      min_played smallint,\n",
      "      net_rating numeric,\n",
      "      off_rating numeric,\n",
      "      opp_pts_2nd_chance smallint,\n",
      "      opp_pts_fb smallint,\n",
      "      opp_pts_off_tov smallint,\n",
      "      opp_pts_paint smallint,\n",
      "      oreb smallint,\n",
      "      oreb_pct numeric,\n",
      "      pace numeric,\n",
      "      pct_ast_2pm numeric,\n",
      "      pct_ast_3pm numeric,\n",
      "      pct_ast_fgm numeric,\n",
      "      pct_fga_2pt numeric,\n",
      "      pct_fga_3pt numeric,\n",
      "      pct_pts_2pt numeric,\n",
      "      pct_pts_2pt_mr numeric,\n",
      "      pct_pts_3pt numeric,\n",
      "      pct_pts_fb numeric,\n",
      "      pct_pts_ft numeric,\n",
      "      pct_pts_off_tov numeric,\n",
      "      pct_pts_paint numeric,\n",
      "      pct_uast_2pm numeric,\n",
      "      pct_uast_3pm numeric,\n",
      "      pct_uast_fgm numeric,\n",
      "      pf smallint,\n",
      "      pfd smallint,\n",
      "      pie numeric,\n",
      "      plus_minus numeric,\n",
      "      pts smallint,\n",
      "      pts_2nd_chance smallint,\n",
      "      pts_fb smallint,\n",
      "      pts_off_tov smallint,\n",
      "      pts_paint smallint,\n",
      "      reb smallint,\n",
      "      reb_pct numeric,\n",
      "      stl smallint,\n",
      "      tm_tov_pct numeric,\n",
      "      tov smallint,\n",
      "      ts_pct numeric,\n",
      "      usg_pct numeric,\n",
      "      CONSTRAINT team_boxscores_combined_game_id_fkey FOREIGN KEY (game_id)\n",
      "          REFERENCES public.games (game_id) MATCH SIMPLE\n",
      "          ON UPDATE NO ACTION ON DELETE NO ACTION,\n",
      "      CONSTRAINT team_boxscores_combined_team_code_fkey FOREIGN KEY (team_code)\n",
      "          REFERENCES public.teams (team_code) MATCH SIMPLE\n",
      "          ON UPDATE NO ACTION ON DELETE NO ACTION,\n",
      "      CONSTRAINT tid_gid UNIQUE (team_id, game_id)\n",
      "    )"
     ]
    },
    {
     "cell_type": "markdown",
     "metadata": {},
     "source": [
      "## teamstats_daily"
     ]
    },
    {
     "cell_type": "markdown",
     "metadata": {},
     "source": [
      "The stats in this table show the team's cumulative stats as of a specific date in the season.\n",
      "\n",
      "As with the other tables that have an 'as_of' column, it is inclusive of that day's games. So, assume HOU played DAL on 12-2-2016. If you want to know how the team was doing *prior* to the game, you would set as_of to 12-1-2016."
     ]
    },
    {
     "cell_type": "markdown",
     "metadata": {},
     "source": [
      "    CREATE TABLE public.teamstats_daily\n",
      "    (\n",
      "      teamstats_daily_id serial primary key,\n",
      "      as_of date NOT NULL,\n",
      "      team_id integer,\n",
      "      ast numeric,\n",
      "      ast_pct numeric,\n",
      "      ast_pct_rank smallint,\n",
      "      ast_rank smallint,\n",
      "      ast_ratio numeric,\n",
      "      ast_ratio_rank smallint,\n",
      "      ast_to numeric,\n",
      "      ast_to_rank smallint,\n",
      "      blk numeric,\n",
      "      blka numeric,\n",
      "      blka_rank smallint,\n",
      "      blk_rank smallint,\n",
      "      def_rating numeric,\n",
      "      def_rating_rank smallint,\n",
      "      dreb numeric,\n",
      "      dreb_pct numeric,\n",
      "      dreb_pct_rank smallint,\n",
      "      dreb_rank smallint,\n",
      "      efg_pct numeric,\n",
      "      efg_pct_rank smallint,\n",
      "      fg3a numeric,\n",
      "      fg3a_rank smallint,\n",
      "      fg3m numeric,\n",
      "      fg3m_rank smallint,\n",
      "      fg3_pct numeric,\n",
      "      fg3_pct_rank smallint,\n",
      "      fga numeric,\n",
      "      fga_rank smallint,\n",
      "      fgm numeric,\n",
      "      fgm_rank smallint,\n",
      "      fg_pct numeric,\n",
      "      fg_pct_rank smallint,\n",
      "      fta numeric,\n",
      "      fta_rank smallint,\n",
      "      ftm numeric,\n",
      "      ftm_rank smallint,\n",
      "      ft_pct numeric,\n",
      "      ft_pct_rank smallint,\n",
      "      gp smallint,\n",
      "      gp_rank smallint,\n",
      "      l smallint,\n",
      "      l_rank smallint,\n",
      "      min numeric,\n",
      "      min_rank smallint,\n",
      "      net_rating numeric,\n",
      "      net_rating_rank smallint,\n",
      "      off_rating numeric,\n",
      "      off_rating_rank smallint,\n",
      "      oreb numeric,\n",
      "      oreb_pct numeric,\n",
      "      oreb_pct_rank smallint,\n",
      "      oreb_rank smallint,\n",
      "      pace numeric,\n",
      "      pace_rank smallint,\n",
      "      pf numeric,\n",
      "      pfd numeric,\n",
      "      pfd_rank smallint,\n",
      "      pf_rank smallint,\n",
      "      pie numeric,\n",
      "      pie_rank smallint,\n",
      "      plus_minus numeric,\n",
      "      plus_minus_rank smallint,\n",
      "      pts numeric,\n",
      "      pts_rank smallint,\n",
      "      reb numeric,\n",
      "      reb_pct numeric,\n",
      "      reb_pct_rank smallint,\n",
      "      reb_rank smallint,\n",
      "      stl numeric,\n",
      "      stl_rank smallint,\n",
      "      tm_tov_pct numeric,\n",
      "      tm_tov_pct_rank smallint,\n",
      "      tov numeric,\n",
      "      tov_rank smallint,\n",
      "      ts_pct numeric,\n",
      "      ts_pct_rank smallint,\n",
      "      w smallint,\n",
      "      w_pct numeric,\n",
      "      w_pct_rank smallint,\n",
      "      w_rank smallint,\n",
      "      CONSTRAINT teamstats_daily_as_of_team_id_key UNIQUE (as_of, team_id)\n",
      "    )\n"
     ]
    },
    {
     "cell_type": "markdown",
     "metadata": {},
     "source": [
      "## team_opponent_dashboards"
     ]
    },
    {
     "cell_type": "markdown",
     "metadata": {},
     "source": [
      "The stats in this table show how the team's opponents fare as of a specific date in the season.\n",
      "\n",
      "As with the other tables that have an 'as_of' column, it is inclusive of that day's games. So, assume DAL and HOU played on 12-2-2016. If you want to know how those teams defended *prior* to the game, you would set as_of to 12-1-2016."
     ]
    },
    {
     "cell_type": "markdown",
     "metadata": {},
     "source": [
      "    CREATE TABLE public.team_opponent_dashboard\n",
      "    (\n",
      "      team_opponent_dashboard_id serial primary key,\n",
      "      team_id integer,\n",
      "      as_of date,\n",
      "      gp smallint,\n",
      "      gp_rank smallint,\n",
      "      l smallint,\n",
      "      l_rank smallint,\n",
      "      min numeric,\n",
      "      min_rank smallint,\n",
      "      opp_ast numeric,\n",
      "      opp_ast_rank smallint,\n",
      "      opp_blk numeric,\n",
      "      opp_blk_rank smallint,\n",
      "      opp_blka numeric,\n",
      "      opp_blka_rank smallint,\n",
      "      opp_dreb numeric,\n",
      "      opp_dreb_rank smallint,\n",
      "      opp_fg3_pct numeric,\n",
      "      opp_fg3_pct_rank smallint,\n",
      "      opp_fg3a numeric,\n",
      "      opp_fg3a_rank smallint,\n",
      "      opp_fg3m numeric,\n",
      "      opp_fg3m_rank smallint,\n",
      "      opp_fg_pct numeric,\n",
      "      opp_fg_pct_rank smallint,\n",
      "      opp_fga numeric,\n",
      "      opp_fga_rank smallint,\n",
      "      opp_fgm numeric,\n",
      "      opp_fgm_rank smallint,\n",
      "      opp_ft_pct numeric,\n",
      "      opp_ft_pct_rank smallint,\n",
      "      opp_fta numeric,\n",
      "      opp_fta_rank smallint,\n",
      "      opp_ftm numeric,\n",
      "      opp_ftm_rank smallint,\n",
      "      opp_oreb numeric,\n",
      "      opp_oreb_rank smallint,\n",
      "      opp_pf numeric,\n",
      "      opp_pf_rank smallint,\n",
      "      opp_pfd numeric,\n",
      "      opp_pfd_rank smallint,\n",
      "      opp_pts numeric,\n",
      "      opp_pts_rank smallint,\n",
      "      opp_reb numeric,\n",
      "      opp_reb_rank smallint,\n",
      "      opp_stl numeric,\n",
      "      opp_stl_rank smallint,\n",
      "      opp_tov numeric,\n",
      "      opp_tov_rank smallint,\n",
      "      plus_minus numeric,\n",
      "      plus_minus_rank smallint,\n",
      "      w smallint,\n",
      "      w_pct numeric,\n",
      "      w_pct_rank smallint,\n",
      "      w_rank smallint,\n",
      "      CONSTRAINT tid_asof UNIQUE (team_id, as_of)\n",
      "    )"
     ]
    },
    {
     "cell_type": "markdown",
     "metadata": {},
     "source": [
      "## dfs_salaries"
     ]
    },
    {
     "cell_type": "markdown",
     "metadata": {},
     "source": [
      "    CREATE TABLE public.dfs_salaries\n",
      "    (\n",
      "      salaries_id integer serial primary key,\n",
      "      nbacom_player_id integer,\n",
      "      source_player_name character varying(50) NOT NULL,\n",
      "      team_code character varying,\n",
      "      game_date date NOT NULL,\n",
      "      season smallint,\n",
      "      source character varying(20) NOT NULL,\n",
      "      source_player_id integer,\n",
      "      source_position character(2) DEFAULT NULL::bpchar,\n",
      "      salary smallint NOT NULL,\n",
      "      dfs_position character varying,\n",
      "      dfs_site character varying,\n",
      "      CONSTRAINT dfs_salaries_nbacom_player_id_fkey FOREIGN KEY (nbacom_player_id)\n",
      "          REFERENCES public.players (nbacom_player_id) MATCH SIMPLE\n",
      "          ON UPDATE NO ACTION ON DELETE NO ACTION,\n",
      "      CONSTRAINT dfs_salaries_season_fkey FOREIGN KEY (season)\n",
      "          REFERENCES public.seasons (season) MATCH SIMPLE\n",
      "          ON UPDATE NO ACTION ON DELETE NO ACTION,\n",
      "      CONSTRAINT dfs_salaries_team_code_fkey FOREIGN KEY (team_code)\n",
      "          REFERENCES public.teams (team_code) MATCH SIMPLE\n",
      "          ON UPDATE NO ACTION ON DELETE NO ACTION,\n",
      "      CONSTRAINT dfs_salaries_nbacom_player_id_game_date_dfs_site_key UNIQUE (nbacom_player_id, game_date, dfs_site)\n",
      "    )"
     ]
    },
    {
     "cell_type": "markdown",
     "metadata": {},
     "source": [
      "## game_meta"
     ]
    },
    {
     "cell_type": "markdown",
     "metadata": {},
     "source": [
      "This table is under active development and will likely change. The idea is to store a bunch of information about a game, such as the scores by quarter, the lines and implied totals, the referees, and the starting players."
     ]
    },
    {
     "cell_type": "markdown",
     "metadata": {},
     "source": [
      "    CREATE TABLE public.games_meta\n",
      "    (\n",
      "      games_meta_id serial primary key,\n",
      "      nbacom_game_id integer NOT NULL,\n",
      "      gamecode character varying(30) NOT NULL,\n",
      "      game_date date NOT NULL,\n",
      "      team_code character varying(3) NOT NULL,\n",
      "      is_home boolean,\n",
      "      days_last_game smallint NOT NULL,\n",
      "      back_to_back smallint NOT NULL,\n",
      "      back_to_back_to_back smallint NOT NULL,\n",
      "      three_in_four smallint NOT NULL,\n",
      "      four_in_five smallint NOT NULL,\n",
      "      q1 smallint NOT NULL,\n",
      "      q2 smallint NOT NULL,\n",
      "      q3 smallint NOT NULL,\n",
      "      q4 smallint NOT NULL,\n",
      "      ot1 smallint,\n",
      "      ot2 smallint,\n",
      "      ot3 smallint,\n",
      "      ot4 smallint,\n",
      "      spread numeric,\n",
      "      game_ou numeric,\n",
      "      implied_total numeric,\n",
      "      starter1 integer,\n",
      "      starter2 integer,\n",
      "      starter3 integer,\n",
      "      starter4 integer,\n",
      "      starter5 integer,\n",
      "      main_referee character varying(30) DEFAULT NULL::character varying,\n",
      "      crew_1 character varying(30) DEFAULT NULL::character varying,\n",
      "      crew_2 character varying(30) DEFAULT NULL::character varying,\n",
      "      CONSTRAINT games_meta_gamecode_fkey FOREIGN KEY (gamecode)\n",
      "          REFERENCES public.games (gamecode) MATCH SIMPLE\n",
      "          ON UPDATE NO ACTION ON DELETE NO ACTION,\n",
      "      CONSTRAINT games_meta_nbacom_game_id_fkey FOREIGN KEY (nbacom_game_id)\n",
      "          REFERENCES public.games (game_id) MATCH SIMPLE\n",
      "          ON UPDATE NO ACTION ON DELETE NO ACTION,\n",
      "      CONSTRAINT games_meta_starter1_fkey FOREIGN KEY (starter1)\n",
      "          REFERENCES public.players (nbacom_player_id) MATCH SIMPLE\n",
      "          ON UPDATE NO ACTION ON DELETE NO ACTION,\n",
      "      CONSTRAINT games_meta_starter2_fkey FOREIGN KEY (starter2)\n",
      "          REFERENCES public.players (nbacom_player_id) MATCH SIMPLE\n",
      "          ON UPDATE NO ACTION ON DELETE NO ACTION,\n",
      "      CONSTRAINT games_meta_starter3_fkey FOREIGN KEY (starter3)\n",
      "          REFERENCES public.players (nbacom_player_id) MATCH SIMPLE\n",
      "          ON UPDATE NO ACTION ON DELETE NO ACTION,\n",
      "      CONSTRAINT games_meta_starter4_fkey FOREIGN KEY (starter4)\n",
      "          REFERENCES public.players (nbacom_player_id) MATCH SIMPLE\n",
      "          ON UPDATE NO ACTION ON DELETE NO ACTION,\n",
      "      CONSTRAINT games_meta_starter5_fkey FOREIGN KEY (starter5)\n",
      "          REFERENCES public.players (nbacom_player_id) MATCH SIMPLE\n",
      "          ON UPDATE NO ACTION ON DELETE NO ACTION,\n",
      "      CONSTRAINT games_meta_team_code_fkey FOREIGN KEY (team_code)\n",
      "          REFERENCES public.teams (team_code) MATCH SIMPLE\n",
      "          ON UPDATE NO ACTION ON DELETE NO ACTION,\n",
      "      CONSTRAINT uq_game_id_team_code UNIQUE (nbacom_game_id, team_code),\n",
      "      CONSTRAINT uq_gamecode_team_code UNIQUE (gamecode, team_code)\n",
      "    )"
     ]
    },
    {
     "cell_type": "markdown",
     "metadata": {},
     "source": [
      "# Views"
     ]
    },
    {
     "cell_type": "markdown",
     "metadata": {},
     "source": [
      "## teamgames"
     ]
    },
    {
     "cell_type": "markdown",
     "metadata": {},
     "source": [
      "The games table has one row per game with both teams in the same row. This view provides two rows per game, one for each team. It makes it easier to search for a team's games & opponents because you don't need to know if it was home or away."
     ]
    },
    {
     "cell_type": "markdown",
     "metadata": {},
     "source": [
      "    CREATE MATERIALIZED VIEW public.teamgames AS \n",
      "     SELECT games.season,\n",
      "        games.game_id,\n",
      "        games.game_date,\n",
      "        games.gamecode,\n",
      "        games.visitor_team_id AS team_id,\n",
      "        games.visitor_team_code AS team_code,\n",
      "        games.home_team_id AS opponent_team_id,\n",
      "        games.home_team_code AS opponent_team_code,\n",
      "        false AS is_home\n",
      "       FROM games\n",
      "    UNION ALL\n",
      "     SELECT games.season,\n",
      "        games.game_id,\n",
      "        games.game_date,\n",
      "        games.gamecode,\n",
      "        games.home_team_id AS team_id,\n",
      "        games.home_team_code AS team_code,\n",
      "        games.visitor_team_id AS opponent_team_id,\n",
      "        games.visitor_team_code AS opponent_team_code,\n",
      "        true AS is_home\n",
      "       FROM games\n",
      "    WITH DATA;"
     ]
    },
    {
     "cell_type": "markdown",
     "metadata": {},
     "source": [
      "## cs_games"
     ]
    },
    {
     "cell_type": "markdown",
     "metadata": {},
     "source": [
      "    CREATE MATERIALIZED VIEW public.cs_games AS \n",
      "     SELECT games.game_id,\n",
      "        games.season,\n",
      "        games.game_date,\n",
      "        games.gamecode,\n",
      "        games.visitor_team_id,\n",
      "        games.visitor_team_code,\n",
      "        games.home_team_id,\n",
      "        games.home_team_code\n",
      "       FROM games\n",
      "      WHERE games.season = (SELECT max(season) from seasons)\n",
      "    WITH DATA;"
     ]
    },
    {
     "cell_type": "markdown",
     "metadata": {},
     "source": [
      "## cs_player_gamelogs"
     ]
    },
    {
     "cell_type": "markdown",
     "metadata": {},
     "source": [
      "    CREATE MATERIALIZED VIEW public.cs_player_gamelogs AS \n",
      "    SELECT * FROM player_gamelogs\n",
      "      WHERE (player_gamelogs.game_id IN ( SELECT cs_games.game_id\n",
      "               FROM cs_games))\n",
      "    WITH DATA;"
     ]
    },
    {
     "cell_type": "markdown",
     "metadata": {},
     "source": [
      "## cs_team_gamelogs"
     ]
    },
    {
     "cell_type": "markdown",
     "metadata": {},
     "source": [
      "    CREATE MATERIALIZED VIEW public.cs_team_gamelogs AS \n",
      "    SELECT * FROM team_gamelogs\n",
      "      WHERE (team_gamelogs.game_id IN ( SELECT cs_games.game_id\n",
      "               FROM cs_games))\n",
      "    WITH DATA;"
     ]
    },
    {
     "cell_type": "markdown",
     "metadata": {},
     "source": [
      "## cs_teamgames"
     ]
    },
    {
     "cell_type": "markdown",
     "metadata": {},
     "source": [
      "    CREATE MATERIALIZED VIEW public.cs_teamgames AS \n",
      "     SELECT teamgames.season,\n",
      "        teamgames.game_id,\n",
      "        teamgames.game_date,\n",
      "        teamgames.gamecode,\n",
      "        teamgames.team_id,\n",
      "        teamgames.team_code,\n",
      "        teamgames.opponent_team_id,\n",
      "        teamgames.opponent_team_code,\n",
      "        teamgames.is_home\n",
      "       FROM teamgames\n",
      "      WHERE (teamgames.game_id IN ( SELECT cs_games.game_id\n",
      "               FROM cs_games))\n",
      "    WITH DATA;"
     ]
    },
    {
     "cell_type": "markdown",
     "metadata": {},
     "source": [
      "## dk_points"
     ]
    },
    {
     "cell_type": "markdown",
     "metadata": {},
     "source": [
      "This shows how a player scores his fantasy points, with each category expressed as a percentage of the total."
     ]
    },
    {
     "cell_type": "markdown",
     "metadata": {},
     "source": [
      "    CREATE MATERIALIZED VIEW public.dkpoints AS \n",
      "     WITH t1 AS (\n",
      "     SELECT cs_player_gamelogs.nbacom_player_id,\n",
      "        cs_player_gamelogs.player_name,\n",
      "        count(cs_player_gamelogs.player_name) AS gp,\n",
      "        sum(cs_player_gamelogs.min) AS mintot,\n",
      "        round((sum(cs_player_gamelogs.min) / count(cs_player_gamelogs.player_name))::numeric, 1) AS mpg,\n",
      "        round(sum(cs_player_gamelogs.dk_points) / count(cs_player_gamelogs.player_name)::numeric, 2) AS dkpg,\n",
      "        round(sum(cs_player_gamelogs.dk_points) / sum(cs_player_gamelogs.min)::numeric, 2) AS dkmin,\n",
      "        round(sum(cs_player_gamelogs.pts)::numeric / sum(cs_player_gamelogs.dk_points), 3) AS ptspct,\n",
      "        round(sum(cs_player_gamelogs.reb)::numeric * 1.25 / sum(cs_player_gamelogs.dk_points), 3) AS rebpct,\n",
      "        round(sum(cs_player_gamelogs.ast)::numeric * 1.5 / sum(cs_player_gamelogs.dk_points), 3) AS astpct,\n",
      "        round((sum(cs_player_gamelogs.stl) * 2)::numeric / sum(cs_player_gamelogs.dk_points), 3) AS stlpct,\n",
      "        round((sum(cs_player_gamelogs.blk) * 2)::numeric / sum(cs_player_gamelogs.dk_points), 3) AS blkpct,\n",
      "        round(sum(cs_player_gamelogs.tov)::numeric * '-0.5'::numeric / sum(cs_player_gamelogs.dk_points), 3) AS tovpct,\n",
      "        round(sum(cs_player_gamelogs.fg3m)::numeric * 0.5 / sum(cs_player_gamelogs.dk_points), 3) AS tpmpct\n",
      "       FROM cs_player_gamelogs\n",
      "      GROUP BY cs_player_gamelogs.nbacom_player_id, cs_player_gamelogs.player_name\n",
      "    )\n",
      "    \n",
      "     SELECT t1.*,\n",
      "        1::numeric - (t1.ptspct + t1.rebpct + t1.astpct + t1.stlpct + t1.blkpct + t1.tovpct + t1.tpmpct) AS bonuspct\n",
      "       FROM t1\n",
      "    WITH DATA;"
     ]
    },
    {
     "cell_type": "markdown",
     "metadata": {},
     "source": [
      "# Functions"
     ]
    },
    {
     "cell_type": "markdown",
     "metadata": {},
     "source": [
      "## dk_points"
     ]
    },
    {
     "cell_type": "markdown",
     "metadata": {},
     "source": [
      "    CREATE OR REPLACE FUNCTION dfs.dk_points(\n",
      "        pts integer, fg3m integer, reb integer,  ast integer, stl integer, blk integer, tov integer)\n",
      "      RETURNS numeric AS\n",
      "    $BODY$\n",
      "\n",
      "    dkpts = pts + (fg3m * .5) + (reb * 1.25) + (ast * 1.5) + (stl * 2) + (blk * 2) - (tov * .5)\n",
      "    over_ten = 0\n",
      "    if pts >= 10:\n",
      "        over_ten += 1\n",
      "    if fg3m >= 10:\n",
      "        over_ten += 1\n",
      "    if reb >= 10:\n",
      "        over_ten += 1\n",
      "    if ast >= 10:\n",
      "        over_ten += 1\n",
      "    if stl >= 10:\n",
      "        over_ten += 1\n",
      "    if blk >= 10:\n",
      "        over_ten += 1\n",
      "    if over_ten == 2:\n",
      "        dkpts += 1.5\n",
      "    elif over_ten >= 3:\n",
      "        dkpts += 4.5\n",
      "    return round(dkpts, 5)\n",
      "\n",
      "    $BODY$\n",
      "      LANGUAGE plpythonu VOLATILE\n",
      "      COST 100;"
     ]
    },
    {
     "cell_type": "markdown",
     "metadata": {},
     "source": [
      "## fd_points"
     ]
    },
    {
     "cell_type": "markdown",
     "metadata": {},
     "source": [
      "    CREATE OR REPLACE FUNCTION dfs.fd_points(\n",
      "        pts integer,\n",
      "        reb integer,\n",
      "        ast integer,\n",
      "        stl integer,\n",
      "        blk integer,\n",
      "        tov integer)\n",
      "      RETURNS numeric AS\n",
      "    $BODY$\n",
      "    fdpts = pts + (reb * 1.2) + (ast * 1.5) + (stl * 2) + (blk * 2) - tov\n",
      "    return round(fdpts, 5)\n",
      "    $BODY$\n",
      "      LANGUAGE plpythonu VOLATILE\n",
      "      COST 100;"
     ]
    },
    {
     "cell_type": "markdown",
     "metadata": {},
     "source": [
      "## refresh_cs_player_gamelogs"
     ]
    },
    {
     "cell_type": "markdown",
     "metadata": {},
     "source": [
      "    CREATE OR REPLACE FUNCTION stats.refresh_cs_player_gamelogs()\n",
      "      RETURNS trigger AS\n",
      "    $BODY$\n",
      "    BEGIN\n",
      "    REFRESH MATERIALIZED VIEW stats.cs_player_gamelogs;\n",
      "    RETURN null;\n",
      "    END;\n",
      "    $BODY$\n",
      "      LANGUAGE plpgsql VOLATILE\n",
      "      COST 100;"
     ]
    }
   ],
   "metadata": {}
  }
 ]
}