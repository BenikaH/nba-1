{
 "cells": [
  {
   "cell_type": "markdown",
   "metadata": {},
   "source": [
    "# NBASeasons Documentation"
   ]
  },
  {
   "cell_type": "code",
   "execution_count": 16,
   "metadata": {
    "collapsed": true
   },
   "outputs": [],
   "source": [
    "import datetime\n",
    "import logging\n",
    "import pprint\n",
    "\n",
    "logger = logging.getLogger()\n",
    "logger.setLevel(logging.DEBUG)"
   ]
  },
  {
   "cell_type": "code",
   "execution_count": 2,
   "metadata": {
    "collapsed": true
   },
   "outputs": [],
   "source": [
    "from seasons import NBASeasons"
   ]
  },
  {
   "cell_type": "markdown",
   "metadata": {
    "collapsed": true
   },
   "source": [
    "## Initialization"
   ]
  },
  {
   "cell_type": "code",
   "execution_count": 14,
   "metadata": {
    "collapsed": false
   },
   "outputs": [
    {
     "name": "stdout",
     "output_type": "stream",
     "text": [
      "parent class: (<class EWTFantasyTools.EWTFantasyTools at 0x7f0421d98738>,)\n",
      "NBASeasons attribute: _seasons\n"
     ]
    }
   ],
   "source": [
    "nbas = NBASeasons()\n",
    "\n",
    "# subclass of EWTFantasyTools\n",
    "print 'parent class: {0}'.format(NBASeasons.__bases__)\n",
    "\n",
    "# _seasons attribute\n",
    "for k,v in vars(nbas).iteritems():\n",
    "    print 'NBASeasons attribute: {0}'.format(k)"
   ]
  },
  {
   "cell_type": "markdown",
   "metadata": {},
   "source": [
    "## Seasons attribute"
   ]
  },
  {
   "cell_type": "code",
   "execution_count": 15,
   "metadata": {
    "collapsed": false
   },
   "outputs": [
    {
     "name": "stdout",
     "output_type": "stream",
     "text": [
      "2015-16 {'start': datetime.datetime(2015, 10, 27, 0, 0), 'end': datetime.datetime(2016, 4, 13, 0, 0)}\n",
      "2014-15 {'start': datetime.datetime(2014, 10, 28, 0, 0), 'end': datetime.datetime(2015, 4, 15, 0, 0)}\n",
      "2013-14 {'start': datetime.datetime(2013, 10, 29, 0, 0), 'end': datetime.datetime(2014, 4, 16, 0, 0)}\n",
      "2012-13 {'start': datetime.datetime(2012, 10, 30, 0, 0), 'end': datetime.datetime(2013, 4, 17, 0, 0)}\n",
      "2011-12 {'start': datetime.datetime(2011, 11, 25, 0, 0), 'end': datetime.datetime(2012, 4, 26, 0, 0)}\n",
      "2010-11 {'start': datetime.datetime(2010, 10, 26, 0, 0), 'end': datetime.datetime(2011, 4, 13, 0, 0)}\n",
      "2009-10 {'start': datetime.datetime(2009, 10, 27, 0, 0), 'end': datetime.datetime(2010, 4, 14, 0, 0)}\n",
      "2008-09 {'start': datetime.datetime(2008, 10, 28, 0, 0), 'end': datetime.datetime(2009, 4, 15, 0, 0)}\n",
      "2007-08 {'start': datetime.datetime(2007, 10, 30, 0, 0), 'end': datetime.datetime(2008, 4, 16, 0, 0)}\n",
      "2006-07 {'start': datetime.datetime(2006, 10, 31, 0, 0), 'end': datetime.datetime(2007, 4, 18, 0, 0)}\n",
      "2005-06 {'start': datetime.datetime(2005, 11, 1, 0, 0), 'end': datetime.datetime(2006, 4, 19, 0, 0)}\n",
      "2004-05 {'start': datetime.datetime(2004, 11, 2, 0, 0), 'end': datetime.datetime(2005, 4, 20, 0, 0)}\n",
      "2003-04 {'start': datetime.datetime(2003, 10, 28, 0, 0), 'end': datetime.datetime(2004, 4, 14, 0, 0)}\n",
      "2002-03 {'start': datetime.datetime(2002, 10, 29, 0, 0), 'end': datetime.datetime(2003, 4, 16, 0, 0)}\n",
      "2001-02 {'start': datetime.datetime(2001, 10, 30, 0, 0), 'end': datetime.datetime(2002, 4, 17, 0, 0)}\n",
      "2000-01 {'start': datetime.datetime(2000, 10, 31, 0, 0), 'end': datetime.datetime(2001, 4, 18, 0, 0)}\n",
      "1999-00 {'start': datetime.datetime(1999, 11, 2, 0, 0), 'end': datetime.datetime(2000, 4, 19, 0, 0)}\n",
      "1998-99 {'start': datetime.datetime(1999, 2, 5, 0, 0), 'end': datetime.datetime(1999, 5, 5, 0, 0)}\n",
      "1997-98 {'start': datetime.datetime(1997, 10, 31, 0, 0), 'end': datetime.datetime(1998, 4, 19, 0, 0)}\n",
      "1996-97 {'start': datetime.datetime(1996, 11, 1, 0, 0), 'end': datetime.datetime(1997, 4, 20, 0, 0)}\n"
     ]
    }
   ],
   "source": [
    "for k,v in nbas._seasons.iteritems():\n",
    "    print k, v"
   ]
  },
  {
   "cell_type": "markdown",
   "metadata": {
    "collapsed": true
   },
   "source": [
    "## in_what_season()"
   ]
  },
  {
   "cell_type": "code",
   "execution_count": 19,
   "metadata": {
    "collapsed": false
   },
   "outputs": [
    {
     "data": {
      "text/plain": [
       "'2015-16'"
      ]
     },
     "execution_count": 19,
     "metadata": {},
     "output_type": "execute_result"
    }
   ],
   "source": [
    "nbas.in_what_season(datetime.datetime.today())"
   ]
  },
  {
   "cell_type": "code",
   "execution_count": 20,
   "metadata": {
    "collapsed": false
   },
   "outputs": [
    {
     "data": {
      "text/plain": [
       "'2012-13'"
      ]
     },
     "execution_count": 20,
     "metadata": {},
     "output_type": "execute_result"
    }
   ],
   "source": [
    "nbas.in_what_season('2013-01-12')"
   ]
  },
  {
   "cell_type": "markdown",
   "metadata": {},
   "source": [
    "## season()"
   ]
  },
  {
   "cell_type": "code",
   "execution_count": 23,
   "metadata": {
    "collapsed": false
   },
   "outputs": [
    {
     "data": {
      "text/plain": [
       "{'end': datetime.datetime(2016, 4, 13, 0, 0),\n",
       " 'start': datetime.datetime(2015, 10, 27, 0, 0)}"
      ]
     },
     "execution_count": 23,
     "metadata": {},
     "output_type": "execute_result"
    }
   ],
   "source": [
    "nbas.season('2015-16')"
   ]
  },
  {
   "cell_type": "markdown",
   "metadata": {},
   "source": [
    "## season_dates()"
   ]
  },
  {
   "cell_type": "code",
   "execution_count": 26,
   "metadata": {
    "collapsed": false
   },
   "outputs": [
    {
     "data": {
      "text/plain": [
       "[datetime.datetime(2016, 4, 13, 0, 0),\n",
       " datetime.datetime(2016, 4, 12, 0, 0),\n",
       " datetime.datetime(2016, 4, 11, 0, 0),\n",
       " datetime.datetime(2016, 4, 10, 0, 0),\n",
       " datetime.datetime(2016, 4, 9, 0, 0)]"
      ]
     },
     "execution_count": 26,
     "metadata": {},
     "output_type": "execute_result"
    }
   ],
   "source": [
    "nbas.season_dates('2015-16')[0:5]"
   ]
  },
  {
   "cell_type": "code",
   "execution_count": 34,
   "metadata": {
    "collapsed": false
   },
   "outputs": [
    {
     "data": {
      "text/plain": [
       "[datetime.datetime(2015, 10, 27, 0, 0),\n",
       " datetime.datetime(2015, 10, 28, 0, 0),\n",
       " datetime.datetime(2015, 10, 29, 0, 0),\n",
       " datetime.datetime(2015, 10, 30, 0, 0),\n",
       " datetime.datetime(2015, 10, 31, 0, 0)]"
      ]
     },
     "execution_count": 34,
     "metadata": {},
     "output_type": "execute_result"
    }
   ],
   "source": [
    "# dates sort properly\n",
    "\n",
    "sorted(nbas.season_dates('2015-16'))[0:5]"
   ]
  },
  {
   "cell_type": "code",
   "execution_count": 29,
   "metadata": {
    "collapsed": false
   },
   "outputs": [
    {
     "data": {
      "text/plain": [
       "['2016-04-13', '2016-04-12', '2016-04-11', '2016-04-10', '2016-04-09']"
      ]
     },
     "execution_count": 29,
     "metadata": {},
     "output_type": "execute_result"
    }
   ],
   "source": [
    "nbas.season_dates(season='2015-16', date_format='%Y-%m-%d')[0:5]"
   ]
  },
  {
   "cell_type": "code",
   "execution_count": 37,
   "metadata": {
    "collapsed": false
   },
   "outputs": [
    {
     "name": "stdout",
     "output_type": "stream",
     "text": [
      "['2015-10-27', '2015-10-28', '2015-10-29', '2015-10-30', '2015-10-31']\n",
      "['01_01_2016', '01_02_2016', '01_03_2016', '01_04_2016', '01_05_2016']\n"
     ]
    }
   ],
   "source": [
    "# date strings do not always sort properly\n",
    "\n",
    "print sorted(nbas.season_dates(season='2015-16', date_format='%Y-%m-%d'))[0:5]\n",
    "print sorted(nbas.season_dates(season='2015-16', date_format='%m_%d_%Y'))[0:5]"
   ]
  },
  {
   "cell_type": "code",
   "execution_count": 39,
   "metadata": {
    "collapsed": false
   },
   "outputs": [
    {
     "data": {
      "text/plain": [
       "[datetime.datetime(2016, 2, 6, 19, 10, 58, 314684),\n",
       " datetime.datetime(2016, 2, 5, 19, 10, 58, 314684),\n",
       " datetime.datetime(2016, 2, 4, 19, 10, 58, 314684),\n",
       " datetime.datetime(2016, 2, 3, 19, 10, 58, 314684),\n",
       " datetime.datetime(2016, 2, 2, 19, 10, 58, 314684)]"
      ]
     },
     "execution_count": 39,
     "metadata": {},
     "output_type": "execute_result"
    }
   ],
   "source": [
    "# can get subset of season's dates if needed\n",
    "\n",
    "nbas.season_dates(season='2015-16', start_date=nbas.season_start('2015-16'), end_date=datetime.datetime.today())[0:5]"
   ]
  },
  {
   "cell_type": "markdown",
   "metadata": {},
   "source": [
    "## season_start()"
   ]
  },
  {
   "cell_type": "code",
   "execution_count": 41,
   "metadata": {
    "collapsed": false
   },
   "outputs": [
    {
     "name": "stdout",
     "output_type": "stream",
     "text": [
      "2015-10-27 00:00:00\n",
      "2014-10-28 00:00:00\n",
      "2013-10-29 00:00:00\n"
     ]
    }
   ],
   "source": [
    "for season in ['2015-16', '2014-15', '2013-14']:\n",
    "    print nbas.season_start(season)"
   ]
  },
  {
   "cell_type": "markdown",
   "metadata": {},
   "source": [
    "## season_end()"
   ]
  },
  {
   "cell_type": "code",
   "execution_count": 42,
   "metadata": {
    "collapsed": false
   },
   "outputs": [
    {
     "name": "stdout",
     "output_type": "stream",
     "text": [
      "2016-04-13 00:00:00\n",
      "2015-04-15 00:00:00\n",
      "2014-04-16 00:00:00\n"
     ]
    }
   ],
   "source": [
    "for season in ['2015-16', '2014-15', '2013-14']:\n",
    "    print nbas.season_end(season)"
   ]
  },
  {
   "cell_type": "markdown",
   "metadata": {},
   "source": [
    "## seasons()"
   ]
  },
  {
   "cell_type": "code",
   "execution_count": 44,
   "metadata": {
    "collapsed": false
   },
   "outputs": [
    {
     "name": "stdout",
     "output_type": "stream",
     "text": [
      "2015-16 {'start': datetime.datetime(2015, 10, 27, 0, 0), 'end': datetime.datetime(2016, 4, 13, 0, 0)}\n",
      "2014-15 {'start': datetime.datetime(2014, 10, 28, 0, 0), 'end': datetime.datetime(2015, 4, 15, 0, 0)}\n",
      "2013-14 {'start': datetime.datetime(2013, 10, 29, 0, 0), 'end': datetime.datetime(2014, 4, 16, 0, 0)}\n",
      "2012-13 {'start': datetime.datetime(2012, 10, 30, 0, 0), 'end': datetime.datetime(2013, 4, 17, 0, 0)}\n",
      "2011-12 {'start': datetime.datetime(2011, 11, 25, 0, 0), 'end': datetime.datetime(2012, 4, 26, 0, 0)}\n",
      "2010-11 {'start': datetime.datetime(2010, 10, 26, 0, 0), 'end': datetime.datetime(2011, 4, 13, 0, 0)}\n",
      "2009-10 {'start': datetime.datetime(2009, 10, 27, 0, 0), 'end': datetime.datetime(2010, 4, 14, 0, 0)}\n",
      "2008-09 {'start': datetime.datetime(2008, 10, 28, 0, 0), 'end': datetime.datetime(2009, 4, 15, 0, 0)}\n",
      "2007-08 {'start': datetime.datetime(2007, 10, 30, 0, 0), 'end': datetime.datetime(2008, 4, 16, 0, 0)}\n",
      "2006-07 {'start': datetime.datetime(2006, 10, 31, 0, 0), 'end': datetime.datetime(2007, 4, 18, 0, 0)}\n",
      "2005-06 {'start': datetime.datetime(2005, 11, 1, 0, 0), 'end': datetime.datetime(2006, 4, 19, 0, 0)}\n",
      "2004-05 {'start': datetime.datetime(2004, 11, 2, 0, 0), 'end': datetime.datetime(2005, 4, 20, 0, 0)}\n",
      "2003-04 {'start': datetime.datetime(2003, 10, 28, 0, 0), 'end': datetime.datetime(2004, 4, 14, 0, 0)}\n",
      "2002-03 {'start': datetime.datetime(2002, 10, 29, 0, 0), 'end': datetime.datetime(2003, 4, 16, 0, 0)}\n",
      "2001-02 {'start': datetime.datetime(2001, 10, 30, 0, 0), 'end': datetime.datetime(2002, 4, 17, 0, 0)}\n",
      "2000-01 {'start': datetime.datetime(2000, 10, 31, 0, 0), 'end': datetime.datetime(2001, 4, 18, 0, 0)}\n",
      "1999-00 {'start': datetime.datetime(1999, 11, 2, 0, 0), 'end': datetime.datetime(2000, 4, 19, 0, 0)}\n",
      "1998-99 {'start': datetime.datetime(1999, 2, 5, 0, 0), 'end': datetime.datetime(1999, 5, 5, 0, 0)}\n",
      "1997-98 {'start': datetime.datetime(1997, 10, 31, 0, 0), 'end': datetime.datetime(1998, 4, 19, 0, 0)}\n",
      "1996-97 {'start': datetime.datetime(1996, 11, 1, 0, 0), 'end': datetime.datetime(1997, 4, 20, 0, 0)}\n"
     ]
    }
   ],
   "source": [
    "for k,v in nbas.seasons().iteritems():\n",
    "    print k, v"
   ]
  },
  {
   "cell_type": "code",
   "execution_count": null,
   "metadata": {
    "collapsed": true
   },
   "outputs": [],
   "source": []
  }
 ],
 "metadata": {
  "kernelspec": {
   "display_name": "Python 2",
   "language": "python",
   "name": "python2"
  },
  "language_info": {
   "codemirror_mode": {
    "name": "ipython",
    "version": 2
   },
   "file_extension": ".py",
   "mimetype": "text/x-python",
   "name": "python",
   "nbconvert_exporter": "python",
   "pygments_lexer": "ipython2",
   "version": "2.7.10"
  }
 },
 "nbformat": 4,
 "nbformat_minor": 0
}
